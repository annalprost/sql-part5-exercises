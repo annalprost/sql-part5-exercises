{
    "metadata": {
        "kernelspec": {
            "name": "SQL",
            "display_name": "SQL",
            "language": "sql"
        },
        "language_info": {
            "name": "sql",
            "version": ""
        }
    },
    "nbformat_minor": 2,
    "nbformat": 4,
    "cells": [
        {
            "cell_type": "markdown",
            "source": [
                "# Exercises: Creating, Updating, and Destroying Objects\n",
                "\n",
                "For the exercises, you will be working with objects and data you create. Before opening this notebook, make sure that you have set up the new connection to the server and that you have located the database and your schema.\n",
                "\n",
                "## Object Creation\n",
                "\n",
                "Before coding, think of three things you want to make. These could be coding projects, new recipes, or planned projects for a woodworking hobby. Brainstorm the appropriate column names and data types as well.\n",
                "\n",
                "Create a table under your schema called `planned_makes`."
            ],
            "metadata": {
                "azdata_cell_guid": "9d51c166-0c19-4f27-a422-2a6cf596bfb2"
            },
            "attachments": {}
        },
        {
            "cell_type": "code",
            "source": [
                "-- \n",
                "CREATE TABLE annap.planned_makes (\n",
                "    polymer_clay_projects NVARCHAR(200),\n",
                "    fall_recipes NVARCHAR(200),\n",
                "    data_analysis_projects NVARCHAR(200)\n",
                ")\n",
                ""
            ],
            "metadata": {
                "azdata_cell_guid": "d9238911-6f81-4f01-980d-b584307effaf",
                "language": "sql"
            },
            "outputs": [
                {
                    "output_type": "display_data",
                    "data": {
                        "text/html": "Commands completed successfully."
                    },
                    "metadata": {}
                },
                {
                    "output_type": "display_data",
                    "data": {
                        "text/html": "Total execution time: 00:00:00.048"
                    },
                    "metadata": {}
                }
            ],
            "execution_count": 51
        },
        {
            "cell_type": "markdown",
            "source": [
                "Add three rows to your table that are your planned makes."
            ],
            "metadata": {
                "azdata_cell_guid": "83cdf34d-8c4f-4fa1-a14e-77384b19d734"
            }
        },
        {
            "cell_type": "code",
            "source": [
                "INSERT INTO annap.planned_makes (polymer_clay_projects, fall_recipes, data_analysis_projects)\n",
                "VALUES ('polymer clay earrings', 'pumpkin muffins', 'Tableau dashboards'),\n",
                "        ('dog tags', 'pumpkin white hot chocolate ', 'SQL'),\n",
                "        ('jewelry dish', 'pumpkin chocolate chip bars', 'final project')\n",
                "\n",
                "SELECT *\n",
                "FROM annap.planned_makes"
            ],
            "metadata": {
                "azdata_cell_guid": "e7cff9cb-87ba-4c7b-98f2-eaf445e8719c",
                "language": "sql",
                "tags": []
            },
            "outputs": [
                {
                    "output_type": "display_data",
                    "data": {
                        "text/html": "(3 rows affected)"
                    },
                    "metadata": {}
                },
                {
                    "output_type": "display_data",
                    "data": {
                        "text/html": "(3 rows affected)"
                    },
                    "metadata": {}
                },
                {
                    "output_type": "display_data",
                    "data": {
                        "text/html": "Total execution time: 00:00:00.045"
                    },
                    "metadata": {}
                },
                {
                    "output_type": "execute_result",
                    "metadata": {},
                    "execution_count": 52,
                    "data": {
                        "application/vnd.dataresource+json": {
                            "schema": {
                                "fields": [
                                    {
                                        "name": "polymer_clay_projects"
                                    },
                                    {
                                        "name": "fall_recipes"
                                    },
                                    {
                                        "name": "data_analysis_projects"
                                    }
                                ]
                            },
                            "data": [
                                {
                                    "polymer_clay_projects": "polymer clay earrings",
                                    "fall_recipes": "pumpkin muffins",
                                    "data_analysis_projects": "Tableau dashboards"
                                },
                                {
                                    "polymer_clay_projects": "dog tags",
                                    "fall_recipes": "pumpkin white hot chocolate ",
                                    "data_analysis_projects": "SQL"
                                },
                                {
                                    "polymer_clay_projects": "jewelry dish",
                                    "fall_recipes": "pumpkin chocolate chip bars",
                                    "data_analysis_projects": "final project"
                                }
                            ]
                        },
                        "text/html": [
                            "<table>",
                            "<tr><th>polymer_clay_projects</th><th>fall_recipes</th><th>data_analysis_projects</th></tr>",
                            "<tr><td>polymer clay earrings</td><td>pumpkin muffins</td><td>Tableau dashboards</td></tr>",
                            "<tr><td>dog tags</td><td>pumpkin white hot chocolate </td><td>SQL</td></tr>",
                            "<tr><td>jewelry dish</td><td>pumpkin chocolate chip bars</td><td>final project</td></tr>",
                            "</table>"
                        ]
                    }
                }
            ],
            "execution_count": 52
        },
        {
            "cell_type": "markdown",
            "source": [
                "## Update a Row\n",
                "\n",
                "Change different values in one of your three rows."
            ],
            "metadata": {
                "azdata_cell_guid": "4a39b8d4-ae97-4e09-8336-c5fc6a00d76c"
            },
            "attachments": {}
        },
        {
            "cell_type": "code",
            "source": [
                "UPDATE annap.planned_makes\n",
                "SET fall_recipes = 'pumpkin cheesecake'\n",
                "WHERE fall_recipes = 'pumpkin muffins' \n",
                "SELECT *\n",
                "FROM annap.planned_makes"
            ],
            "metadata": {
                "azdata_cell_guid": "7409c695-9581-4ad8-b03a-574d2c4c87cb",
                "language": "sql",
                "tags": []
            },
            "outputs": [
                {
                    "output_type": "display_data",
                    "data": {
                        "text/html": "(1 row affected)"
                    },
                    "metadata": {}
                },
                {
                    "output_type": "display_data",
                    "data": {
                        "text/html": "(3 rows affected)"
                    },
                    "metadata": {}
                },
                {
                    "output_type": "display_data",
                    "data": {
                        "text/html": "Total execution time: 00:00:00.061"
                    },
                    "metadata": {}
                },
                {
                    "output_type": "execute_result",
                    "metadata": {},
                    "execution_count": 53,
                    "data": {
                        "application/vnd.dataresource+json": {
                            "schema": {
                                "fields": [
                                    {
                                        "name": "polymer_clay_projects"
                                    },
                                    {
                                        "name": "fall_recipes"
                                    },
                                    {
                                        "name": "data_analysis_projects"
                                    }
                                ]
                            },
                            "data": [
                                {
                                    "polymer_clay_projects": "polymer clay earrings",
                                    "fall_recipes": "pumpkin cheesecake",
                                    "data_analysis_projects": "Tableau dashboards"
                                },
                                {
                                    "polymer_clay_projects": "dog tags",
                                    "fall_recipes": "pumpkin white hot chocolate ",
                                    "data_analysis_projects": "SQL"
                                },
                                {
                                    "polymer_clay_projects": "jewelry dish",
                                    "fall_recipes": "pumpkin chocolate chip bars",
                                    "data_analysis_projects": "final project"
                                }
                            ]
                        },
                        "text/html": [
                            "<table>",
                            "<tr><th>polymer_clay_projects</th><th>fall_recipes</th><th>data_analysis_projects</th></tr>",
                            "<tr><td>polymer clay earrings</td><td>pumpkin cheesecake</td><td>Tableau dashboards</td></tr>",
                            "<tr><td>dog tags</td><td>pumpkin white hot chocolate </td><td>SQL</td></tr>",
                            "<tr><td>jewelry dish</td><td>pumpkin chocolate chip bars</td><td>final project</td></tr>",
                            "</table>"
                        ]
                    }
                }
            ],
            "execution_count": 53
        },
        {
            "cell_type": "markdown",
            "source": [
                "## Delete a Row\n",
                "\n",
                "Delete one of the rows from your table."
            ],
            "metadata": {
                "azdata_cell_guid": "95e91a6e-9038-42d9-9401-5738842aba17"
            }
        },
        {
            "cell_type": "code",
            "source": [
                "DELETE FROM annap.planned_makes\n",
                "WHERE polymer_clay_projects = 'jewelry dish'\n",
                "\n",
                "SELECT *\n",
                "FROM annap.planned_makes"
            ],
            "metadata": {
                "azdata_cell_guid": "749c748f-19b5-4c69-9004-b6b20216616a",
                "language": "sql"
            },
            "outputs": [
                {
                    "output_type": "display_data",
                    "data": {
                        "text/html": "(1 row affected)"
                    },
                    "metadata": {}
                },
                {
                    "output_type": "display_data",
                    "data": {
                        "text/html": "(2 rows affected)"
                    },
                    "metadata": {}
                },
                {
                    "output_type": "display_data",
                    "data": {
                        "text/html": "Total execution time: 00:00:00.043"
                    },
                    "metadata": {}
                },
                {
                    "output_type": "execute_result",
                    "metadata": {},
                    "execution_count": 54,
                    "data": {
                        "application/vnd.dataresource+json": {
                            "schema": {
                                "fields": [
                                    {
                                        "name": "polymer_clay_projects"
                                    },
                                    {
                                        "name": "fall_recipes"
                                    },
                                    {
                                        "name": "data_analysis_projects"
                                    }
                                ]
                            },
                            "data": [
                                {
                                    "polymer_clay_projects": "polymer clay earrings",
                                    "fall_recipes": "pumpkin cheesecake",
                                    "data_analysis_projects": "Tableau dashboards"
                                },
                                {
                                    "polymer_clay_projects": "dog tags",
                                    "fall_recipes": "pumpkin white hot chocolate ",
                                    "data_analysis_projects": "SQL"
                                }
                            ]
                        },
                        "text/html": [
                            "<table>",
                            "<tr><th>polymer_clay_projects</th><th>fall_recipes</th><th>data_analysis_projects</th></tr>",
                            "<tr><td>polymer clay earrings</td><td>pumpkin cheesecake</td><td>Tableau dashboards</td></tr>",
                            "<tr><td>dog tags</td><td>pumpkin white hot chocolate </td><td>SQL</td></tr>",
                            "</table>"
                        ]
                    }
                }
            ],
            "execution_count": 54
        },
        {
            "cell_type": "markdown",
            "source": [
                "## Drop the Table\n",
                "\n",
                "While this has been fun, it is time to drop the table!"
            ],
            "metadata": {
                "azdata_cell_guid": "2239cb09-137b-4579-905b-1aa020793181"
            },
            "attachments": {}
        },
        {
            "cell_type": "code",
            "source": [
                "DROP TABLE annap.planned_makes"
            ],
            "metadata": {
                "azdata_cell_guid": "b3c7f6ea-ee26-46b3-9c2a-2f7a82c39699",
                "language": "sql"
            },
            "outputs": [
                {
                    "output_type": "display_data",
                    "data": {
                        "text/html": "Commands completed successfully."
                    },
                    "metadata": {}
                },
                {
                    "output_type": "display_data",
                    "data": {
                        "text/html": "Total execution time: 00:00:00.045"
                    },
                    "metadata": {}
                }
            ],
            "execution_count": 55
        }
    ]
}